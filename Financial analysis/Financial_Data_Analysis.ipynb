{
 "cells": [
  {
   "cell_type": "markdown",
   "id": "8e43ee67-3678-4969-ba70-389ccf933ecc",
   "metadata": {},
   "source": [
    "<img src=\"image1.jpg\" alt=\"Project Image\">\n"
   ]
  },
  {
   "cell_type": "markdown",
   "id": "4406d523-ecda-4fa8-9f92-d7022117fcef",
   "metadata": {},
   "source": [
    "<font size=\"5\">**IMPORTING ALL REQUIRED LIBRARIES** </font>"
   ]
  },
  {
   "cell_type": "code",
   "execution_count": 1,
   "id": "a39694da-f498-4950-bead-def59130ec99",
   "metadata": {},
   "outputs": [],
   "source": [
    "import pandas as pd\n",
    "import numpy as np\n",
    "import seaborn as sns\n",
    "import matplotlib.pyplot as plt\n",
    "from warnings import filterwarnings\n",
    "filterwarnings(\"ignore\")"
   ]
  },
  {
   "cell_type": "markdown",
   "id": "5b42c57c-3875-4943-92e7-a73448fbd69e",
   "metadata": {},
   "source": [
    "<font size=\"5\">**READING AND IMPORTING THE DATASET** </font>"
   ]
  },
  {
   "cell_type": "code",
   "execution_count": 2,
   "id": "add828f9-b418-4999-a056-e9468f797c82",
   "metadata": {},
   "outputs": [],
   "source": [
    "df1 = pd.read_csv(\"Financial Analytics data.csv\")"
   ]
  },
  {
   "cell_type": "markdown",
   "id": "b6b9912d-b3f4-449f-8db2-46078c653ec0",
   "metadata": {},
   "source": [
    "<font size=\"5\">**STATISTICAL VIEW** </font>"
   ]
  },
  {
   "cell_type": "code",
   "execution_count": 4,
   "id": "0a748402-090b-4a94-80cc-123ec12abb13",
   "metadata": {},
   "outputs": [
    {
     "name": "stdout",
     "output_type": "stream",
     "text": [
      "<class 'pandas.core.frame.DataFrame'>\n",
      "RangeIndex: 488 entries, 0 to 487\n",
      "Data columns (total 5 columns):\n",
      " #   Column             Non-Null Count  Dtype  \n",
      "---  ------             --------------  -----  \n",
      " 0   S.No.              488 non-null    int64  \n",
      " 1   Name               488 non-null    object \n",
      " 2   Mar Cap - Crore    479 non-null    float64\n",
      " 3   Sales Qtr - Crore  365 non-null    float64\n",
      " 4   Unnamed: 4         94 non-null     float64\n",
      "dtypes: float64(3), int64(1), object(1)\n",
      "memory usage: 19.2+ KB\n"
     ]
    }
   ],
   "source": [
    "df1.info()"
   ]
  },
  {
   "cell_type": "code",
   "execution_count": 5,
   "id": "10213aee-022a-451b-bdcf-0436f3d788e5",
   "metadata": {},
   "outputs": [
    {
     "data": {
      "text/html": [
       "<div>\n",
       "<style scoped>\n",
       "    .dataframe tbody tr th:only-of-type {\n",
       "        vertical-align: middle;\n",
       "    }\n",
       "\n",
       "    .dataframe tbody tr th {\n",
       "        vertical-align: top;\n",
       "    }\n",
       "\n",
       "    .dataframe thead th {\n",
       "        text-align: right;\n",
       "    }\n",
       "</style>\n",
       "<table border=\"1\" class=\"dataframe\">\n",
       "  <thead>\n",
       "    <tr style=\"text-align: right;\">\n",
       "      <th></th>\n",
       "      <th>S.No.</th>\n",
       "      <th>Mar Cap - Crore</th>\n",
       "      <th>Sales Qtr - Crore</th>\n",
       "      <th>Unnamed: 4</th>\n",
       "    </tr>\n",
       "  </thead>\n",
       "  <tbody>\n",
       "    <tr>\n",
       "      <th>count</th>\n",
       "      <td>488.000000</td>\n",
       "      <td>479.000000</td>\n",
       "      <td>365.000000</td>\n",
       "      <td>94.000000</td>\n",
       "    </tr>\n",
       "    <tr>\n",
       "      <th>mean</th>\n",
       "      <td>251.508197</td>\n",
       "      <td>28043.857119</td>\n",
       "      <td>4395.976849</td>\n",
       "      <td>1523.870106</td>\n",
       "    </tr>\n",
       "    <tr>\n",
       "      <th>std</th>\n",
       "      <td>145.884078</td>\n",
       "      <td>59464.615831</td>\n",
       "      <td>11092.206185</td>\n",
       "      <td>1800.008836</td>\n",
       "    </tr>\n",
       "    <tr>\n",
       "      <th>min</th>\n",
       "      <td>1.000000</td>\n",
       "      <td>3017.070000</td>\n",
       "      <td>47.240000</td>\n",
       "      <td>0.000000</td>\n",
       "    </tr>\n",
       "    <tr>\n",
       "      <th>25%</th>\n",
       "      <td>122.750000</td>\n",
       "      <td>4843.575000</td>\n",
       "      <td>593.740000</td>\n",
       "      <td>407.167500</td>\n",
       "    </tr>\n",
       "    <tr>\n",
       "      <th>50%</th>\n",
       "      <td>252.500000</td>\n",
       "      <td>9885.050000</td>\n",
       "      <td>1278.300000</td>\n",
       "      <td>702.325000</td>\n",
       "    </tr>\n",
       "    <tr>\n",
       "      <th>75%</th>\n",
       "      <td>378.250000</td>\n",
       "      <td>23549.900000</td>\n",
       "      <td>2840.750000</td>\n",
       "      <td>2234.815000</td>\n",
       "    </tr>\n",
       "    <tr>\n",
       "      <th>max</th>\n",
       "      <td>500.000000</td>\n",
       "      <td>583436.720000</td>\n",
       "      <td>110666.930000</td>\n",
       "      <td>7757.060000</td>\n",
       "    </tr>\n",
       "  </tbody>\n",
       "</table>\n",
       "</div>"
      ],
      "text/plain": [
       "            S.No.  Mar Cap - Crore  Sales Qtr - Crore   Unnamed: 4\n",
       "count  488.000000       479.000000         365.000000    94.000000\n",
       "mean   251.508197     28043.857119        4395.976849  1523.870106\n",
       "std    145.884078     59464.615831       11092.206185  1800.008836\n",
       "min      1.000000      3017.070000          47.240000     0.000000\n",
       "25%    122.750000      4843.575000         593.740000   407.167500\n",
       "50%    252.500000      9885.050000        1278.300000   702.325000\n",
       "75%    378.250000     23549.900000        2840.750000  2234.815000\n",
       "max    500.000000    583436.720000      110666.930000  7757.060000"
      ]
     },
     "execution_count": 5,
     "metadata": {},
     "output_type": "execute_result"
    }
   ],
   "source": [
    "df1.describe()"
   ]
  },
  {
   "cell_type": "code",
   "execution_count": 6,
   "id": "578c39e4-c26e-4278-80d7-b1e29e011eb8",
   "metadata": {},
   "outputs": [
    {
     "data": {
      "text/plain": [
       "Index(['S.No.', 'Name', 'Mar Cap - Crore', 'Sales Qtr - Crore', 'Unnamed: 4'], dtype='object')"
      ]
     },
     "execution_count": 6,
     "metadata": {},
     "output_type": "execute_result"
    }
   ],
   "source": [
    "df1.columns"
   ]
  },
  {
   "cell_type": "code",
   "execution_count": 7,
   "id": "6c4f4fa0-9f5e-42e7-9734-9ff83cef8e0f",
   "metadata": {},
   "outputs": [
    {
     "data": {
      "text/plain": [
       "S.No.                  0\n",
       "Name                   0\n",
       "Mar Cap - Crore        9\n",
       "Sales Qtr - Crore    123\n",
       "Unnamed: 4           394\n",
       "dtype: int64"
      ]
     },
     "execution_count": 7,
     "metadata": {},
     "output_type": "execute_result"
    }
   ],
   "source": [
    "df1.isnull().sum()"
   ]
  },
  {
   "cell_type": "code",
   "execution_count": 8,
   "id": "9d89be65-b0bb-43f2-9b68-7d6322b6f0ab",
   "metadata": {},
   "outputs": [
    {
     "data": {
      "text/html": [
       "<div>\n",
       "<style scoped>\n",
       "    .dataframe tbody tr th:only-of-type {\n",
       "        vertical-align: middle;\n",
       "    }\n",
       "\n",
       "    .dataframe tbody tr th {\n",
       "        vertical-align: top;\n",
       "    }\n",
       "\n",
       "    .dataframe thead th {\n",
       "        text-align: right;\n",
       "    }\n",
       "</style>\n",
       "<table border=\"1\" class=\"dataframe\">\n",
       "  <thead>\n",
       "    <tr style=\"text-align: right;\">\n",
       "      <th></th>\n",
       "      <th>S.No.</th>\n",
       "      <th>Name</th>\n",
       "      <th>Mar Cap - Crore</th>\n",
       "      <th>Sales Qtr - Crore</th>\n",
       "      <th>Unnamed: 4</th>\n",
       "    </tr>\n",
       "  </thead>\n",
       "  <tbody>\n",
       "    <tr>\n",
       "      <th>0</th>\n",
       "      <td>1</td>\n",
       "      <td>Reliance Inds.</td>\n",
       "      <td>583436.72</td>\n",
       "      <td>99810.00</td>\n",
       "      <td>NaN</td>\n",
       "    </tr>\n",
       "    <tr>\n",
       "      <th>1</th>\n",
       "      <td>2</td>\n",
       "      <td>TCS</td>\n",
       "      <td>563709.84</td>\n",
       "      <td>30904.00</td>\n",
       "      <td>NaN</td>\n",
       "    </tr>\n",
       "    <tr>\n",
       "      <th>2</th>\n",
       "      <td>3</td>\n",
       "      <td>HDFC Bank</td>\n",
       "      <td>482953.59</td>\n",
       "      <td>20581.27</td>\n",
       "      <td>NaN</td>\n",
       "    </tr>\n",
       "    <tr>\n",
       "      <th>3</th>\n",
       "      <td>4</td>\n",
       "      <td>ITC</td>\n",
       "      <td>320985.27</td>\n",
       "      <td>9772.02</td>\n",
       "      <td>NaN</td>\n",
       "    </tr>\n",
       "    <tr>\n",
       "      <th>4</th>\n",
       "      <td>5</td>\n",
       "      <td>H D F C</td>\n",
       "      <td>289497.37</td>\n",
       "      <td>16840.51</td>\n",
       "      <td>NaN</td>\n",
       "    </tr>\n",
       "    <tr>\n",
       "      <th>5</th>\n",
       "      <td>6</td>\n",
       "      <td>Hind. Unilever</td>\n",
       "      <td>288265.26</td>\n",
       "      <td>8590.00</td>\n",
       "      <td>NaN</td>\n",
       "    </tr>\n",
       "    <tr>\n",
       "      <th>6</th>\n",
       "      <td>7</td>\n",
       "      <td>Maruti Suzuki</td>\n",
       "      <td>263493.81</td>\n",
       "      <td>19283.20</td>\n",
       "      <td>NaN</td>\n",
       "    </tr>\n",
       "    <tr>\n",
       "      <th>7</th>\n",
       "      <td>8</td>\n",
       "      <td>Infosys</td>\n",
       "      <td>248320.35</td>\n",
       "      <td>17794.00</td>\n",
       "      <td>NaN</td>\n",
       "    </tr>\n",
       "    <tr>\n",
       "      <th>8</th>\n",
       "      <td>9</td>\n",
       "      <td>O N G C</td>\n",
       "      <td>239981.50</td>\n",
       "      <td>22995.88</td>\n",
       "      <td>NaN</td>\n",
       "    </tr>\n",
       "    <tr>\n",
       "      <th>9</th>\n",
       "      <td>10</td>\n",
       "      <td>St Bk of India</td>\n",
       "      <td>232763.33</td>\n",
       "      <td>57014.08</td>\n",
       "      <td>NaN</td>\n",
       "    </tr>\n",
       "    <tr>\n",
       "      <th>10</th>\n",
       "      <td>11</td>\n",
       "      <td>ICICI Bank</td>\n",
       "      <td>203802.35</td>\n",
       "      <td>13665.35</td>\n",
       "      <td>NaN</td>\n",
       "    </tr>\n",
       "    <tr>\n",
       "      <th>11</th>\n",
       "      <td>12</td>\n",
       "      <td>Kotak Mah. Bank</td>\n",
       "      <td>199253.77</td>\n",
       "      <td>6390.71</td>\n",
       "      <td>NaN</td>\n",
       "    </tr>\n",
       "    <tr>\n",
       "      <th>12</th>\n",
       "      <td>13</td>\n",
       "      <td>Coal India</td>\n",
       "      <td>192677.98</td>\n",
       "      <td>21643.28</td>\n",
       "      <td>NaN</td>\n",
       "    </tr>\n",
       "    <tr>\n",
       "      <th>13</th>\n",
       "      <td>14</td>\n",
       "      <td>Larsen &amp; Toubro</td>\n",
       "      <td>180860.74</td>\n",
       "      <td>28747.45</td>\n",
       "      <td>NaN</td>\n",
       "    </tr>\n",
       "    <tr>\n",
       "      <th>14</th>\n",
       "      <td>15</td>\n",
       "      <td>I O C L</td>\n",
       "      <td>178017.48</td>\n",
       "      <td>110666.93</td>\n",
       "      <td>NaN</td>\n",
       "    </tr>\n",
       "    <tr>\n",
       "      <th>15</th>\n",
       "      <td>16</td>\n",
       "      <td>Bharti Airtel</td>\n",
       "      <td>167131.29</td>\n",
       "      <td>20318.60</td>\n",
       "      <td>NaN</td>\n",
       "    </tr>\n",
       "    <tr>\n",
       "      <th>16</th>\n",
       "      <td>17</td>\n",
       "      <td>Axis Bank</td>\n",
       "      <td>136380.76</td>\n",
       "      <td>11721.55</td>\n",
       "      <td>NaN</td>\n",
       "    </tr>\n",
       "    <tr>\n",
       "      <th>17</th>\n",
       "      <td>18</td>\n",
       "      <td>NTPC</td>\n",
       "      <td>135390.53</td>\n",
       "      <td>20774.37</td>\n",
       "      <td>NaN</td>\n",
       "    </tr>\n",
       "    <tr>\n",
       "      <th>18</th>\n",
       "      <td>19</td>\n",
       "      <td>Sun Pharma.Inds.</td>\n",
       "      <td>134241.36</td>\n",
       "      <td>6653.23</td>\n",
       "      <td>NaN</td>\n",
       "    </tr>\n",
       "    <tr>\n",
       "      <th>19</th>\n",
       "      <td>20</td>\n",
       "      <td>Hind.Zinc</td>\n",
       "      <td>133266.56</td>\n",
       "      <td>5922.00</td>\n",
       "      <td>NaN</td>\n",
       "    </tr>\n",
       "    <tr>\n",
       "      <th>20</th>\n",
       "      <td>21</td>\n",
       "      <td>Wipro</td>\n",
       "      <td>131840.57</td>\n",
       "      <td>13669.00</td>\n",
       "      <td>NaN</td>\n",
       "    </tr>\n",
       "    <tr>\n",
       "      <th>21</th>\n",
       "      <td>22</td>\n",
       "      <td>HCL Technologies</td>\n",
       "      <td>126335.27</td>\n",
       "      <td>12809.00</td>\n",
       "      <td>NaN</td>\n",
       "    </tr>\n",
       "    <tr>\n",
       "      <th>22</th>\n",
       "      <td>23</td>\n",
       "      <td>Vedanta</td>\n",
       "      <td>122184.17</td>\n",
       "      <td>24361.00</td>\n",
       "      <td>NaN</td>\n",
       "    </tr>\n",
       "    <tr>\n",
       "      <th>23</th>\n",
       "      <td>24</td>\n",
       "      <td>Tata Motors</td>\n",
       "      <td>117071.87</td>\n",
       "      <td>74156.07</td>\n",
       "      <td>NaN</td>\n",
       "    </tr>\n",
       "    <tr>\n",
       "      <th>24</th>\n",
       "      <td>25</td>\n",
       "      <td>UltraTech Cem.</td>\n",
       "      <td>113692.87</td>\n",
       "      <td>8019.24</td>\n",
       "      <td>NaN</td>\n",
       "    </tr>\n",
       "    <tr>\n",
       "      <th>25</th>\n",
       "      <td>26</td>\n",
       "      <td>Asian Paints</td>\n",
       "      <td>108044.04</td>\n",
       "      <td>4260.52</td>\n",
       "      <td>NaN</td>\n",
       "    </tr>\n",
       "    <tr>\n",
       "      <th>26</th>\n",
       "      <td>27</td>\n",
       "      <td>Power Grid Corpn</td>\n",
       "      <td>102016.01</td>\n",
       "      <td>7506.95</td>\n",
       "      <td>NaN</td>\n",
       "    </tr>\n",
       "    <tr>\n",
       "      <th>27</th>\n",
       "      <td>28</td>\n",
       "      <td>B P C L</td>\n",
       "      <td>98278.00</td>\n",
       "      <td>60616.36</td>\n",
       "      <td>NaN</td>\n",
       "    </tr>\n",
       "    <tr>\n",
       "      <th>28</th>\n",
       "      <td>29</td>\n",
       "      <td>IndusInd Bank</td>\n",
       "      <td>97379.96</td>\n",
       "      <td>4286.78</td>\n",
       "      <td>NaN</td>\n",
       "    </tr>\n",
       "    <tr>\n",
       "      <th>29</th>\n",
       "      <td>30</td>\n",
       "      <td>Bajaj Fin.</td>\n",
       "      <td>94476.77</td>\n",
       "      <td>3540.63</td>\n",
       "      <td>NaN</td>\n",
       "    </tr>\n",
       "    <tr>\n",
       "      <th>30</th>\n",
       "      <td>31</td>\n",
       "      <td>Bajaj Auto</td>\n",
       "      <td>88252.60</td>\n",
       "      <td>6369.34</td>\n",
       "      <td>NaN</td>\n",
       "    </tr>\n",
       "    <tr>\n",
       "      <th>31</th>\n",
       "      <td>32</td>\n",
       "      <td>M &amp; M</td>\n",
       "      <td>88142.35</td>\n",
       "      <td>11577.78</td>\n",
       "      <td>NaN</td>\n",
       "    </tr>\n",
       "    <tr>\n",
       "      <th>32</th>\n",
       "      <td>33</td>\n",
       "      <td>HDFC Stand. Life</td>\n",
       "      <td>87358.23</td>\n",
       "      <td>9734.90</td>\n",
       "      <td>NaN</td>\n",
       "    </tr>\n",
       "    <tr>\n",
       "      <th>33</th>\n",
       "      <td>34</td>\n",
       "      <td>Adani Ports</td>\n",
       "      <td>81781.89</td>\n",
       "      <td>2688.85</td>\n",
       "      <td>NaN</td>\n",
       "    </tr>\n",
       "    <tr>\n",
       "      <th>34</th>\n",
       "      <td>35</td>\n",
       "      <td>Bajaj Finserv</td>\n",
       "      <td>79795.11</td>\n",
       "      <td>7665.40</td>\n",
       "      <td>NaN</td>\n",
       "    </tr>\n",
       "    <tr>\n",
       "      <th>35</th>\n",
       "      <td>36</td>\n",
       "      <td>GAIL (India)</td>\n",
       "      <td>78670.97</td>\n",
       "      <td>14414.34</td>\n",
       "      <td>NaN</td>\n",
       "    </tr>\n",
       "    <tr>\n",
       "      <th>36</th>\n",
       "      <td>37</td>\n",
       "      <td>Avenue Super.</td>\n",
       "      <td>74066.35</td>\n",
       "      <td>4094.82</td>\n",
       "      <td>NaN</td>\n",
       "    </tr>\n",
       "    <tr>\n",
       "      <th>37</th>\n",
       "      <td>38</td>\n",
       "      <td>Titan Company</td>\n",
       "      <td>73886.00</td>\n",
       "      <td>4274.84</td>\n",
       "      <td>NaN</td>\n",
       "    </tr>\n",
       "    <tr>\n",
       "      <th>38</th>\n",
       "      <td>39</td>\n",
       "      <td>JSW Steel</td>\n",
       "      <td>73870.26</td>\n",
       "      <td>17861.00</td>\n",
       "      <td>NaN</td>\n",
       "    </tr>\n",
       "    <tr>\n",
       "      <th>39</th>\n",
       "      <td>40</td>\n",
       "      <td>Grasim Inds</td>\n",
       "      <td>73532.62</td>\n",
       "      <td>15291.42</td>\n",
       "      <td>NaN</td>\n",
       "    </tr>\n",
       "    <tr>\n",
       "      <th>40</th>\n",
       "      <td>41</td>\n",
       "      <td>Tata Steel</td>\n",
       "      <td>73376.14</td>\n",
       "      <td>32464.14</td>\n",
       "      <td>NaN</td>\n",
       "    </tr>\n",
       "    <tr>\n",
       "      <th>41</th>\n",
       "      <td>42</td>\n",
       "      <td>Eicher Motors</td>\n",
       "      <td>73311.41</td>\n",
       "      <td>2269.01</td>\n",
       "      <td>NaN</td>\n",
       "    </tr>\n",
       "    <tr>\n",
       "      <th>42</th>\n",
       "      <td>43</td>\n",
       "      <td>Nestle India</td>\n",
       "      <td>73015.49</td>\n",
       "      <td>2601.46</td>\n",
       "      <td>NaN</td>\n",
       "    </tr>\n",
       "    <tr>\n",
       "      <th>43</th>\n",
       "      <td>44</td>\n",
       "      <td>Godrej Consumer</td>\n",
       "      <td>71859.82</td>\n",
       "      <td>2630.30</td>\n",
       "      <td>NaN</td>\n",
       "    </tr>\n",
       "    <tr>\n",
       "      <th>44</th>\n",
       "      <td>45</td>\n",
       "      <td>Yes Bank</td>\n",
       "      <td>71028.13</td>\n",
       "      <td>5070.30</td>\n",
       "      <td>NaN</td>\n",
       "    </tr>\n",
       "    <tr>\n",
       "      <th>45</th>\n",
       "      <td>46</td>\n",
       "      <td>Hero Motocorp</td>\n",
       "      <td>69448.66</td>\n",
       "      <td>7305.49</td>\n",
       "      <td>NaN</td>\n",
       "    </tr>\n",
       "    <tr>\n",
       "      <th>46</th>\n",
       "      <td>47</td>\n",
       "      <td>Motherson Sumi</td>\n",
       "      <td>68590.33</td>\n",
       "      <td>14397.85</td>\n",
       "      <td>NaN</td>\n",
       "    </tr>\n",
       "    <tr>\n",
       "      <th>47</th>\n",
       "      <td>48</td>\n",
       "      <td>SBI Life Insuran</td>\n",
       "      <td>67465.00</td>\n",
       "      <td>9569.97</td>\n",
       "      <td>NaN</td>\n",
       "    </tr>\n",
       "    <tr>\n",
       "      <th>48</th>\n",
       "      <td>49</td>\n",
       "      <td>General Insuranc</td>\n",
       "      <td>66316.32</td>\n",
       "      <td>8557.68</td>\n",
       "      <td>NaN</td>\n",
       "    </tr>\n",
       "    <tr>\n",
       "      <th>49</th>\n",
       "      <td>50</td>\n",
       "      <td>Bharti Infra.</td>\n",
       "      <td>61776.92</td>\n",
       "      <td>NaN</td>\n",
       "      <td>NaN</td>\n",
       "    </tr>\n",
       "  </tbody>\n",
       "</table>\n",
       "</div>"
      ],
      "text/plain": [
       "    S.No.              Name  Mar Cap - Crore  Sales Qtr - Crore  Unnamed: 4\n",
       "0       1    Reliance Inds.        583436.72           99810.00         NaN\n",
       "1       2               TCS        563709.84           30904.00         NaN\n",
       "2       3         HDFC Bank        482953.59           20581.27         NaN\n",
       "3       4               ITC        320985.27            9772.02         NaN\n",
       "4       5           H D F C        289497.37           16840.51         NaN\n",
       "5       6    Hind. Unilever        288265.26            8590.00         NaN\n",
       "6       7     Maruti Suzuki        263493.81           19283.20         NaN\n",
       "7       8           Infosys        248320.35           17794.00         NaN\n",
       "8       9           O N G C        239981.50           22995.88         NaN\n",
       "9      10    St Bk of India        232763.33           57014.08         NaN\n",
       "10     11        ICICI Bank        203802.35           13665.35         NaN\n",
       "11     12   Kotak Mah. Bank        199253.77            6390.71         NaN\n",
       "12     13        Coal India        192677.98           21643.28         NaN\n",
       "13     14   Larsen & Toubro        180860.74           28747.45         NaN\n",
       "14     15           I O C L        178017.48          110666.93         NaN\n",
       "15     16     Bharti Airtel        167131.29           20318.60         NaN\n",
       "16     17         Axis Bank        136380.76           11721.55         NaN\n",
       "17     18              NTPC        135390.53           20774.37         NaN\n",
       "18     19  Sun Pharma.Inds.        134241.36            6653.23         NaN\n",
       "19     20         Hind.Zinc        133266.56            5922.00         NaN\n",
       "20     21             Wipro        131840.57           13669.00         NaN\n",
       "21     22  HCL Technologies        126335.27           12809.00         NaN\n",
       "22     23           Vedanta        122184.17           24361.00         NaN\n",
       "23     24       Tata Motors        117071.87           74156.07         NaN\n",
       "24     25    UltraTech Cem.        113692.87            8019.24         NaN\n",
       "25     26      Asian Paints        108044.04            4260.52         NaN\n",
       "26     27  Power Grid Corpn        102016.01            7506.95         NaN\n",
       "27     28           B P C L         98278.00           60616.36         NaN\n",
       "28     29     IndusInd Bank         97379.96            4286.78         NaN\n",
       "29     30        Bajaj Fin.         94476.77            3540.63         NaN\n",
       "30     31        Bajaj Auto         88252.60            6369.34         NaN\n",
       "31     32             M & M         88142.35           11577.78         NaN\n",
       "32     33  HDFC Stand. Life         87358.23            9734.90         NaN\n",
       "33     34       Adani Ports         81781.89            2688.85         NaN\n",
       "34     35     Bajaj Finserv         79795.11            7665.40         NaN\n",
       "35     36      GAIL (India)         78670.97           14414.34         NaN\n",
       "36     37     Avenue Super.         74066.35            4094.82         NaN\n",
       "37     38     Titan Company         73886.00            4274.84         NaN\n",
       "38     39         JSW Steel         73870.26           17861.00         NaN\n",
       "39     40       Grasim Inds         73532.62           15291.42         NaN\n",
       "40     41        Tata Steel         73376.14           32464.14         NaN\n",
       "41     42     Eicher Motors         73311.41            2269.01         NaN\n",
       "42     43      Nestle India         73015.49            2601.46         NaN\n",
       "43     44   Godrej Consumer         71859.82            2630.30         NaN\n",
       "44     45          Yes Bank         71028.13            5070.30         NaN\n",
       "45     46     Hero Motocorp         69448.66            7305.49         NaN\n",
       "46     47    Motherson Sumi         68590.33           14397.85         NaN\n",
       "47     48  SBI Life Insuran         67465.00            9569.97         NaN\n",
       "48     49  General Insuranc         66316.32            8557.68         NaN\n",
       "49     50     Bharti Infra.         61776.92                NaN         NaN"
      ]
     },
     "execution_count": 8,
     "metadata": {},
     "output_type": "execute_result"
    }
   ],
   "source": [
    "df1.head(50)"
   ]
  },
  {
   "cell_type": "markdown",
   "id": "d1561727-b0f0-4409-bb6c-f3eae35b94ac",
   "metadata": {},
   "source": [
    "<font size=\"4\"><span style=\"color:red\">As from the above analysis we come to know that there are some Null values in the columns of the dataset. From the dataset analysis in excel we came to know that the some values of Sales column have been entered into the next column which is not name , but in system it is named as the Unnamed: 4. So we will remove the all the Null Values from the dataset and also we will fill all the values of an unknown column Unnamed: 4 in the Sales column using Fillna Function.</span></font>\n"
   ]
  },
  {
   "cell_type": "code",
   "execution_count": 9,
   "id": "767f0162-6672-4996-a64d-9b2d38371507",
   "metadata": {},
   "outputs": [
    {
     "name": "stdout",
     "output_type": "stream",
     "text": [
      "Data has been updated and stored into the new file\n"
     ]
    }
   ],
   "source": [
    "# Filling the Null values of Sales column from the Unnamed: 4 column\n",
    "df1['Sales Qtr - Crore'] = df1['Sales Qtr - Crore'].fillna(df1['Unnamed: 4'])\n",
    "\n",
    "#Dropping the Unnamed: 4 columns \n",
    "df1.drop(columns=['Unnamed: 4'], inplace=True)\n",
    "\n",
    "# Creating and storing the data in new file\n",
    "df1.to_csv('Financial_Data_Analysis.csv', index=False)\n",
    "\n",
    "print(\"Data has been updated and stored into the new file\")"
   ]
  },
  {
   "cell_type": "markdown",
   "id": "0b995204-3d2b-494a-b76d-c6cd8239ab17",
   "metadata": {},
   "source": [
    "<font size=\"5\"><span style=\"color:red\">**Checking for Null Values** </font>"
   ]
  },
  {
   "cell_type": "markdown",
   "id": "2fe77d49-0702-460c-b474-30165296066b",
   "metadata": {},
   "source": [
    "<font size=\"5\"><span style=\"color:green\">**Loading and Reading the new data file** </font>"
   ]
  },
  {
   "cell_type": "code",
   "execution_count": 10,
   "id": "af7b8180-bb79-45a2-9a2f-3b0492240f11",
   "metadata": {},
   "outputs": [],
   "source": [
    "df1 = pd.read_csv(\"Financial_Data_Analysis.csv\")"
   ]
  },
  {
   "cell_type": "code",
   "execution_count": 11,
   "id": "39cce7d7-3cab-4271-8ea5-4791f4033a95",
   "metadata": {},
   "outputs": [
    {
     "data": {
      "text/plain": [
       "S.No.                 0\n",
       "Name                  0\n",
       "Mar Cap - Crore       9\n",
       "Sales Qtr - Crore    29\n",
       "dtype: int64"
      ]
     },
     "execution_count": 11,
     "metadata": {},
     "output_type": "execute_result"
    }
   ],
   "source": [
    "df1.isnull().sum()"
   ]
  },
  {
   "cell_type": "markdown",
   "id": "38959b83-427c-4b6a-bc4d-d46dafbee3f8",
   "metadata": {},
   "source": [
    "<font size=\"5\"><span style=\"color:red\">**Removing the Null Values** </font>"
   ]
  },
  {
   "cell_type": "code",
   "execution_count": 12,
   "id": "6ed6d0c0-c5da-4270-92a7-1b29ae2eb22c",
   "metadata": {},
   "outputs": [
    {
     "name": "stdout",
     "output_type": "stream",
     "text": [
      "Null Values have been removed and stored into the file\n"
     ]
    }
   ],
   "source": [
    "removing_null_value = ['Mar Cap - Crore', 'Sales Qtr - Crore']\n",
    "\n",
    "df1.dropna(subset=removing_null_value, inplace=True)\n",
    "\n",
    "df1.to_csv('Financial_Data_Analysis.csv', index=False)\n",
    "\n",
    "print(\"Null Values have been removed and stored into the file\")"
   ]
  },
  {
   "cell_type": "markdown",
   "id": "523c5d5f-9cc1-4a0b-b906-b238f3a06be2",
   "metadata": {},
   "source": [
    "<font size=\"5\"><span style=\"color:red\">**Checking for Null Values** </font>"
   ]
  },
  {
   "cell_type": "code",
   "execution_count": 13,
   "id": "22c6df99-1ab9-48ae-9716-452a29c2eee5",
   "metadata": {},
   "outputs": [],
   "source": [
    "df = pd.read_csv(\"Financial_Data_Analysis.csv\")"
   ]
  },
  {
   "cell_type": "code",
   "execution_count": 14,
   "id": "82b91442-879e-48f1-b53a-c32273f82947",
   "metadata": {},
   "outputs": [
    {
     "data": {
      "text/plain": [
       "S.No.                0\n",
       "Name                 0\n",
       "Mar Cap - Crore      0\n",
       "Sales Qtr - Crore    0\n",
       "dtype: int64"
      ]
     },
     "execution_count": 14,
     "metadata": {},
     "output_type": "execute_result"
    }
   ],
   "source": [
    "df.isnull().sum()"
   ]
  },
  {
   "cell_type": "markdown",
   "id": "10cc945e-8a72-44fe-aa32-24e6eceaf91a",
   "metadata": {},
   "source": [
    "<font size=\"6\"><span style=\"color:black\"><center>**FINAL STATISTICAL ANALYSIS** </center></font>"
   ]
  },
  {
   "cell_type": "code",
   "execution_count": 15,
   "id": "bddba5fd-0fc7-4c2d-a6e3-1a83d8687ca5",
   "metadata": {},
   "outputs": [
    {
     "data": {
      "text/plain": [
       "(459, 4)"
      ]
     },
     "execution_count": 15,
     "metadata": {},
     "output_type": "execute_result"
    }
   ],
   "source": [
    "df.shape"
   ]
  },
  {
   "cell_type": "code",
   "execution_count": 16,
   "id": "acfc0b40-0bad-422d-9174-a27ad64dd245",
   "metadata": {},
   "outputs": [
    {
     "name": "stdout",
     "output_type": "stream",
     "text": [
      "<class 'pandas.core.frame.DataFrame'>\n",
      "RangeIndex: 459 entries, 0 to 458\n",
      "Data columns (total 4 columns):\n",
      " #   Column             Non-Null Count  Dtype  \n",
      "---  ------             --------------  -----  \n",
      " 0   S.No.              459 non-null    int64  \n",
      " 1   Name               459 non-null    object \n",
      " 2   Mar Cap - Crore    459 non-null    float64\n",
      " 3   Sales Qtr - Crore  459 non-null    float64\n",
      "dtypes: float64(2), int64(1), object(1)\n",
      "memory usage: 14.5+ KB\n"
     ]
    }
   ],
   "source": [
    "df.info()"
   ]
  },
  {
   "cell_type": "code",
   "execution_count": 17,
   "id": "9fc347e7-edc6-437c-9ab6-ddce9bcb4548",
   "metadata": {},
   "outputs": [
    {
     "data": {
      "text/html": [
       "<div>\n",
       "<style scoped>\n",
       "    .dataframe tbody tr th:only-of-type {\n",
       "        vertical-align: middle;\n",
       "    }\n",
       "\n",
       "    .dataframe tbody tr th {\n",
       "        vertical-align: top;\n",
       "    }\n",
       "\n",
       "    .dataframe thead th {\n",
       "        text-align: right;\n",
       "    }\n",
       "</style>\n",
       "<table border=\"1\" class=\"dataframe\">\n",
       "  <thead>\n",
       "    <tr style=\"text-align: right;\">\n",
       "      <th></th>\n",
       "      <th>S.No.</th>\n",
       "      <th>Mar Cap - Crore</th>\n",
       "      <th>Sales Qtr - Crore</th>\n",
       "    </tr>\n",
       "  </thead>\n",
       "  <tbody>\n",
       "    <tr>\n",
       "      <th>count</th>\n",
       "      <td>459.000000</td>\n",
       "      <td>459.000000</td>\n",
       "      <td>459.000000</td>\n",
       "    </tr>\n",
       "    <tr>\n",
       "      <th>mean</th>\n",
       "      <td>246.575163</td>\n",
       "      <td>28870.974139</td>\n",
       "      <td>3807.789412</td>\n",
       "    </tr>\n",
       "    <tr>\n",
       "      <th>std</th>\n",
       "      <td>146.046444</td>\n",
       "      <td>60557.081792</td>\n",
       "      <td>9989.449987</td>\n",
       "    </tr>\n",
       "    <tr>\n",
       "      <th>min</th>\n",
       "      <td>1.000000</td>\n",
       "      <td>3017.070000</td>\n",
       "      <td>0.000000</td>\n",
       "    </tr>\n",
       "    <tr>\n",
       "      <th>25%</th>\n",
       "      <td>117.500000</td>\n",
       "      <td>4942.815000</td>\n",
       "      <td>534.910000</td>\n",
       "    </tr>\n",
       "    <tr>\n",
       "      <th>50%</th>\n",
       "      <td>243.000000</td>\n",
       "      <td>10442.090000</td>\n",
       "      <td>1137.170000</td>\n",
       "    </tr>\n",
       "    <tr>\n",
       "      <th>75%</th>\n",
       "      <td>371.500000</td>\n",
       "      <td>24707.320000</td>\n",
       "      <td>2730.195000</td>\n",
       "    </tr>\n",
       "    <tr>\n",
       "      <th>max</th>\n",
       "      <td>499.000000</td>\n",
       "      <td>583436.720000</td>\n",
       "      <td>110666.930000</td>\n",
       "    </tr>\n",
       "  </tbody>\n",
       "</table>\n",
       "</div>"
      ],
      "text/plain": [
       "            S.No.  Mar Cap - Crore  Sales Qtr - Crore\n",
       "count  459.000000       459.000000         459.000000\n",
       "mean   246.575163     28870.974139        3807.789412\n",
       "std    146.046444     60557.081792        9989.449987\n",
       "min      1.000000      3017.070000           0.000000\n",
       "25%    117.500000      4942.815000         534.910000\n",
       "50%    243.000000     10442.090000        1137.170000\n",
       "75%    371.500000     24707.320000        2730.195000\n",
       "max    499.000000    583436.720000      110666.930000"
      ]
     },
     "execution_count": 17,
     "metadata": {},
     "output_type": "execute_result"
    }
   ],
   "source": [
    "df.describe()"
   ]
  },
  {
   "cell_type": "code",
   "execution_count": 18,
   "id": "021181cc-68e0-441d-a3e0-c29237d0c688",
   "metadata": {},
   "outputs": [
    {
     "data": {
      "text/plain": [
       "S.No.                0\n",
       "Name                 0\n",
       "Mar Cap - Crore      0\n",
       "Sales Qtr - Crore    0\n",
       "dtype: int64"
      ]
     },
     "execution_count": 18,
     "metadata": {},
     "output_type": "execute_result"
    }
   ],
   "source": [
    "df.isnull().sum()"
   ]
  },
  {
   "cell_type": "code",
   "execution_count": 19,
   "id": "b86c4f97-39bc-4168-bdc9-6b2bdd32a5f5",
   "metadata": {},
   "outputs": [
    {
     "data": {
      "text/html": [
       "<div>\n",
       "<style scoped>\n",
       "    .dataframe tbody tr th:only-of-type {\n",
       "        vertical-align: middle;\n",
       "    }\n",
       "\n",
       "    .dataframe tbody tr th {\n",
       "        vertical-align: top;\n",
       "    }\n",
       "\n",
       "    .dataframe thead th {\n",
       "        text-align: right;\n",
       "    }\n",
       "</style>\n",
       "<table border=\"1\" class=\"dataframe\">\n",
       "  <thead>\n",
       "    <tr style=\"text-align: right;\">\n",
       "      <th></th>\n",
       "      <th>S.No.</th>\n",
       "      <th>Name</th>\n",
       "      <th>Mar Cap - Crore</th>\n",
       "      <th>Sales Qtr - Crore</th>\n",
       "    </tr>\n",
       "  </thead>\n",
       "  <tbody>\n",
       "    <tr>\n",
       "      <th>0</th>\n",
       "      <td>1</td>\n",
       "      <td>Reliance Inds.</td>\n",
       "      <td>583436.72</td>\n",
       "      <td>99810.00</td>\n",
       "    </tr>\n",
       "    <tr>\n",
       "      <th>1</th>\n",
       "      <td>2</td>\n",
       "      <td>TCS</td>\n",
       "      <td>563709.84</td>\n",
       "      <td>30904.00</td>\n",
       "    </tr>\n",
       "    <tr>\n",
       "      <th>2</th>\n",
       "      <td>3</td>\n",
       "      <td>HDFC Bank</td>\n",
       "      <td>482953.59</td>\n",
       "      <td>20581.27</td>\n",
       "    </tr>\n",
       "    <tr>\n",
       "      <th>3</th>\n",
       "      <td>4</td>\n",
       "      <td>ITC</td>\n",
       "      <td>320985.27</td>\n",
       "      <td>9772.02</td>\n",
       "    </tr>\n",
       "    <tr>\n",
       "      <th>4</th>\n",
       "      <td>5</td>\n",
       "      <td>H D F C</td>\n",
       "      <td>289497.37</td>\n",
       "      <td>16840.51</td>\n",
       "    </tr>\n",
       "  </tbody>\n",
       "</table>\n",
       "</div>"
      ],
      "text/plain": [
       "   S.No.            Name  Mar Cap - Crore  Sales Qtr - Crore\n",
       "0      1  Reliance Inds.        583436.72           99810.00\n",
       "1      2             TCS        563709.84           30904.00\n",
       "2      3       HDFC Bank        482953.59           20581.27\n",
       "3      4             ITC        320985.27            9772.02\n",
       "4      5         H D F C        289497.37           16840.51"
      ]
     },
     "execution_count": 19,
     "metadata": {},
     "output_type": "execute_result"
    }
   ],
   "source": [
    "df.head()"
   ]
  },
  {
   "cell_type": "markdown",
   "id": "e17d7d55-643c-414f-832b-d28fbf5566b3",
   "metadata": {},
   "source": [
    "<font size=\"7\"><span style=\"color:black\"><center>**DATA ANALYSIS** </center></font>"
   ]
  },
  {
   "cell_type": "markdown",
   "id": "ed472112-5f88-4c97-a331-ddff84854908",
   "metadata": {},
   "source": [
    "<font size=\"6\"><span style=\"color:darkblue\">**Analysis on Market Capture and Sales**</span></font>"
   ]
  },
  {
   "cell_type": "code",
   "execution_count": 21,
   "id": "42d55b71-e587-4296-a0a6-e1a5091ff5bd",
   "metadata": {},
   "outputs": [
    {
     "name": "stdout",
     "output_type": "stream",
     "text": [
      "Maximum Amount =  583436.72\n"
     ]
    }
   ],
   "source": [
    "maximum = df['Mar Cap - Crore'].max()\n",
    "\n",
    "print(\"Maximum Amount = \" , maximum)"
   ]
  },
  {
   "cell_type": "code",
   "execution_count": 22,
   "id": "c802a218-eb6a-495c-b521-7ab75f8dec72",
   "metadata": {},
   "outputs": [
    {
     "name": "stdout",
     "output_type": "stream",
     "text": [
      "Minimum Amount =  3017.07\n"
     ]
    }
   ],
   "source": [
    "minimum = df['Mar Cap - Crore'].min()\n",
    "\n",
    "print(\"Minimum Amount = \" , minimum)"
   ]
  },
  {
   "cell_type": "code",
   "execution_count": 23,
   "id": "85eccfc0-ea11-4fa0-8bfe-eac8c5e0c6ff",
   "metadata": {},
   "outputs": [
    {
     "data": {
      "image/png": "[encoded data removed]",
      "text/plain": [
       "<Figure size 640x480 with 1 Axes>"
      ]
     },
     "metadata": {},
     "output_type": "display_data"
    }
   ],
   "source": [
    "sns.distplot(df['Mar Cap - Crore'])\n",
    "plt.title(\"Analysis on Market Capture\")\n",
    "plt.xticks(rotation = 90 , ha = \"right\")\n",
    "plt.xlabel(\"Amount\")\n",
    "plt.ylabel(\"Density\")\n",
    "\n",
    "plt.show()"
   ]
  },
  {
   "cell_type": "code",
   "execution_count": 24,
   "id": "e9d78c94-0b06-4ce3-8fc6-08475f2305c5",
   "metadata": {},
   "outputs": [
    {
     "data": {
      "image/png": "[encoded data removed]",
      "text/plain": [
       "<Figure size 600x600 with 2 Axes>"
      ]
     },
     "metadata": {},
     "output_type": "display_data"
    }
   ],
   "source": [
    "plt.figure(figsize=(6,6))\n",
    "\n",
    "column1 = 'Mar Cap - Crore'\n",
    "column2 = 'Sales Qtr - Crore' \n",
    "\n",
    "correlation_matrix = df[[column1, column2]].corr()\n",
    "sns.heatmap(correlation_matrix, annot=True, cmap='coolwarm')\n",
    "plt.title('Correlation heatmap')\n",
    "\n",
    "plt.show()"
   ]
  },
  {
   "cell_type": "code",
   "execution_count": 25,
   "id": "c4b614d0-ece0-4b47-925c-def64efa4894",
   "metadata": {},
   "outputs": [
    {
     "data": {
      "image/png": "[encoded data removed]",
      "text/plain": [
       "<Figure size 500x500 with 6 Axes>"
      ]
     },
     "metadata": {},
     "output_type": "display_data"
    }
   ],
   "source": [
    "sns.pairplot(df[['Mar Cap - Crore' , 'Sales Qtr - Crore']])\n",
    "plt.title('Pair Plot of Numeric Columns')\n",
    "plt.show()"
   ]
  },
  {
   "cell_type": "code",
   "execution_count": 26,
   "id": "fd224870-13e3-4f80-80e0-3172c2fae4d9",
   "metadata": {},
   "outputs": [
    {
     "name": "stdout",
     "output_type": "stream",
     "text": [
      "Maximum Financial Sales =  110666.93\n"
     ]
    }
   ],
   "source": [
    "maximum = df['Sales Qtr - Crore'].max()\n",
    "print(\"Maximum Financial Sales = \" , maximum)"
   ]
  },
  {
   "cell_type": "code",
   "execution_count": 27,
   "id": "a05be602-8304-4086-862e-2398b4d22285",
   "metadata": {},
   "outputs": [
    {
     "name": "stdout",
     "output_type": "stream",
     "text": [
      "Minimum Amount =  0.0\n"
     ]
    }
   ],
   "source": [
    "minimum = df['Sales Qtr - Crore'].min()\n",
    "\n",
    "print(\"Minimum Amount = \" , minimum)"
   ]
  },
  {
   "cell_type": "code",
   "execution_count": 28,
   "id": "86d7c04b-77d4-4436-8594-c5194f11b634",
   "metadata": {},
   "outputs": [
    {
     "data": {
      "image/png": "[encoded data removed]",
      "text/plain": [
       "<Figure size 640x480 with 1 Axes>"
      ]
     },
     "metadata": {},
     "output_type": "display_data"
    }
   ],
   "source": [
    "plt.hist(df['Mar Cap - Crore'] , color = 'lightgreen' , edgecolor = 'red')\n",
    "plt.xticks(rotation = 90, ha = \"right\")\n",
    "plt.xlabel(\"Amount\")\n",
    "plt.ylabel(\"Density\")\n",
    "plt.title(\"Analysis of Market capture in crore using Histogram\")\n",
    "\n",
    "plt.show()"
   ]
  },
  {
   "cell_type": "code",
   "execution_count": 29,
   "id": "2dc93ddc-81eb-4130-af18-f756f630c994",
   "metadata": {},
   "outputs": [
    {
     "data": {
      "image/png": "[encoded data removed]",
      "text/plain": [
       "<Figure size 640x480 with 1 Axes>"
      ]
     },
     "metadata": {},
     "output_type": "display_data"
    }
   ],
   "source": [
    "plt.hist(df['Sales Qtr - Crore'] , color = 'yellow' , edgecolor = 'red')\n",
    "plt.xticks(rotation = 90, ha = \"right\")\n",
    "plt.xlabel(\"Amount\")\n",
    "plt.ylabel(\"Density\")\n",
    "plt.title(\"Analysis of Sales in crore using Histogram\")\n",
    "\n",
    "plt.show()"
   ]
  },
  {
   "cell_type": "markdown",
   "id": "1d8bbc07-834f-404a-badc-1b7360af28a2",
   "metadata": {},
   "source": [
    "<font size=\"6\"><span style=\"color:darkblue\">**Analysis on Sales Capture**</span></font>"
   ]
  },
  {
   "cell_type": "code",
   "execution_count": 30,
   "id": "fd291bda-dc8e-42ad-9fc3-1ec8d9ccb69f",
   "metadata": {},
   "outputs": [
    {
     "name": "stdout",
     "output_type": "stream",
     "text": [
      "Maximum Amount =  110666.93\n"
     ]
    }
   ],
   "source": [
    "maximum = df['Sales Qtr - Crore'].max()\n",
    "print(\"Maximum Amount = \" , maximum)"
   ]
  },
  {
   "cell_type": "code",
   "execution_count": 31,
   "id": "d7234b67-50ee-4ca5-81ea-431de524b5a9",
   "metadata": {},
   "outputs": [
    {
     "name": "stdout",
     "output_type": "stream",
     "text": [
      "Minimum Amount =  0.0\n"
     ]
    }
   ],
   "source": [
    "minimum = df['Sales Qtr - Crore'].min()\n",
    "print(\"Minimum Amount = \" , minimum)"
   ]
  },
  {
   "cell_type": "code",
   "execution_count": 32,
   "id": "0fdd8a08-d6fd-4a5d-ab9f-d35fd01955b4",
   "metadata": {},
   "outputs": [
    {
     "data": {
      "image/png": "[encoded data removed]",
      "text/plain": [
       "<Figure size 640x480 with 1 Axes>"
      ]
     },
     "metadata": {},
     "output_type": "display_data"
    }
   ],
   "source": [
    "sns.distplot(df['Sales Qtr - Crore'])\n",
    "plt.title(\"Analysis on Sales Capture\")\n",
    "plt.xticks(rotation = 90 , ha = \"right\")\n",
    "plt.xlabel(\"Amount\")\n",
    "plt.ylabel(\"Density\")\n",
    "\n",
    "plt.show()"
   ]
  },
  {
   "cell_type": "markdown",
   "id": "36d6888a-3bab-4a9d-94de-1c16f3a719ce",
   "metadata": {},
   "source": [
    "<font size=\"10\"><center>**THANK YOU** </center></font>"
   ]
  }
 ],
 "metadata": {
  "kernelspec": {
   "display_name": "Python 3 (ipykernel)",
   "language": "python",
   "name": "python3"
  },
  "language_info": {
   "codemirror_mode": {
    "name": "ipython",
    "version": 3
   },
   "file_extension": ".py",
   "mimetype": "text/x-python",
   "name": "python",
   "nbconvert_exporter": "python",
   "pygments_lexer": "ipython3",
   "version": "3.11.4"
  }
 },
 "nbformat": 4,
 "nbformat_minor": 5
}
